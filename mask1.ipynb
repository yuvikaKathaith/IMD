{
 "cells": [
  {
   "cell_type": "code",
   "execution_count": null,
   "id": "f5eef2c0",
   "metadata": {
    "vscode": {
     "languageId": "plaintext"
    }
   },
   "outputs": [],
   "source": [
    "from PIL import Image\n",
    "import matplotlib.pyplot as plt\n",
    "\n",
    "# ✅ FIXED PATH\n",
    "img_path = 'C:/Users/hp/Downloads/IMD/difference53.jpg'\n",
    "\n",
    "# Check if path is valid\n",
    "import os\n",
    "if not os.path.isfile(img_path):\n",
    "    print(\"Error: File does not exist at the given path.\")\n",
    "else:\n",
    "    # Load image\n",
    "    img = Image.open(img_path).convert('RGB')\n",
    "\n",
    "    # Convert to grayscale\n",
    "    gray_img = img.convert('L')\n",
    "\n",
    "    # Apply threshold\n",
    "    threshold = 50\n",
    "    bw_img = gray_img.point(lambda x: 255 if x > threshold else 0, mode='1')\n",
    "\n",
    "    # Save B/W image\n",
    "    bw_path = 'C:/Users/hp/Downloads/IMD/image_bw_01.jpg'\n",
    "    bw_img.save(bw_path)\n",
    "\n",
    "    # Show result\n",
    "    plt.imshow(bw_img, cmap='gray')\n",
    "    plt.axis('off')\n",
    "    plt.title(\"Black & White Image\")\n",
    "    plt.show()\n",
    "\n",
    "    print(f\"✅ Image processed and saved at: {bw_path}\")\n"
   ]
  }
 ],
 "metadata": {
  "language_info": {
   "name": "python"
  }
 },
 "nbformat": 4,
 "nbformat_minor": 5
}
