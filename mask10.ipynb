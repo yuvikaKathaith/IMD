{
 "cells": [
  {
   "cell_type": "code",
   "execution_count": null,
   "id": "423bb0be",
   "metadata": {
    "vscode": {
     "languageId": "plaintext"
    }
   },
   "outputs": [],
   "source": [
    "import cv2\n",
    "import numpy as np\n",
    "import matplotlib.pyplot as plt\n",
    "\n",
    "img = cv2.imread('C:/Users/hp/Downloads/difference53.jpg')\n",
    "gray = cv2.cvtColor(img, cv2.COLOR_BGR2GRAY)\n",
    "_, binary = cv2.threshold(gray, 50, 255, cv2.THRESH_BINARY)\n",
    "\n",
    "plt.imshow(binary, cmap='gray')\n",
    "plt.title('Binary Mercury Detection')\n",
    "plt.axis('off')\n",
    "plt.show()\n",
    "\n",
    "coords = cv2.findNonZero(binary)\n",
    "\n",
    "if coords is not None:\n",
    "    x, y, w, h = cv2.boundingRect(coords)\n",
    "    boxed_img = img.copy()\n",
    "    cv2.rectangle(boxed_img, (x, y), (x + w, y + h), (0, 0, 255), 2)\n",
    "\n",
    "    plt.imshow(cv2.cvtColor(boxed_img, cv2.COLOR_BGR2RGB))\n",
    "    plt.axis('off')\n",
    "    plt.show()\n",
    "\n",
    "    min_x = np.min(coords[:, 0, 0])\n",
    "    max_x = np.max(coords[:, 0, 0])\n",
    "\n",
    "    print(f\"Mercury bounding box:\")\n",
    "    print(f\"Left: {x}, Right: {x + w}\")\n",
    "    print(f\"Width (columns): {w}\")\n",
    "    print(f\"Detected mercury starts at column: {min_x}\")\n",
    "    print(f\"Detected mercury ends at column: {max_x}\")\n",
    "\n",
    "    scale_left_pixel = 0\n",
    "    scale_right_pixel = img.shape[1] - 1\n",
    "\n",
    "    temp_range = 25 - 4\n",
    "    pixel_distance = abs(scale_right_pixel - scale_left_pixel)\n",
    "    pixels_per_degree = pixel_distance / temp_range\n",
    "\n",
    "    print(f\"Pixels per °C: {pixels_per_degree:.2f}\")\n",
    "\n",
    "    mercury_length = abs(max_x - scale_left_pixel)\n",
    "    temperature = 25 - (mercury_length / pixels_per_degree)\n",
    "\n",
    "    print(f\"Measured temperature: {temperature:.2f} °C\")\n",
    "\n",
    "else:\n",
    "    print(\"No region detected with given threshold.\")\n"
   ]
  }
 ],
 "metadata": {
  "language_info": {
   "name": "python"
  }
 },
 "nbformat": 4,
 "nbformat_minor": 5
}
