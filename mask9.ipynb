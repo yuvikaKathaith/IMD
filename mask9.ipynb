{
 "cells": [
  {
   "cell_type": "code",
   "execution_count": null,
   "id": "e107b026",
   "metadata": {
    "vscode": {
     "languageId": "plaintext"
    }
   },
   "outputs": [],
   "source": [
    "import cv2\n",
    "import numpy as np\n",
    "import matplotlib.pyplot as plt\n",
    "\n",
    "# Create image: 1 row x 100 pixels\n",
    "img = np.zeros((1, 100, 3), dtype=np.uint8)\n",
    "\n",
    "# First 20 pixels = red (mercury)\n",
    "for i in range(20):\n",
    "    img[0, i] = [0, 0, 255]  # Red in BGR\n",
    "\n",
    "# Remaining pixels alternate black and white\n",
    "for i in range(20, 100):\n",
    "    img[0, i] = [255, 255, 255] if i % 2 == 0 else [0, 0, 0]\n",
    "\n",
    "# Convert to HSV\n",
    "hsv = cv2.cvtColor(img, cv2.COLOR_BGR2HSV)\n",
    "\n",
    "# Define red range in HSV (two ranges for red)\n",
    "lower_red1 = np.array([0, 100, 100])\n",
    "upper_red1 = np.array([10, 255, 255])\n",
    "lower_red2 = np.array([160, 100, 100])\n",
    "upper_red2 = np.array([179, 255, 255])\n",
    "\n",
    "# Create masks for both red ranges\n",
    "mask1 = cv2.inRange(hsv, lower_red1, upper_red1)\n",
    "mask2 = cv2.inRange(hsv, lower_red2, upper_red2)\n",
    "red_mask = cv2.bitwise_or(mask1, mask2)\n",
    "\n",
    "# Show red mask\n",
    "plt.imshow(red_mask, cmap='gray')\n",
    "plt.title('Red Mercury Detection')\n",
    "plt.axis('off')\n",
    "plt.show()\n",
    "\n",
    "# Find red mercury pixels\n",
    "coords = cv2.findNonZero(red_mask)\n",
    "\n",
    "if coords is not None:\n",
    "    x, y, w, h = cv2.boundingRect(coords)\n",
    "    boxed_img = img.copy()\n",
    "    cv2.rectangle(boxed_img, (x, y), (x + w, y + h), (0, 255, 0), 1)\n",
    "\n",
    "    # Show final image with bounding box\n",
    "    resized = cv2.resize(boxed_img, (1000, 100), interpolation=cv2.INTER_NEAREST)\n",
    "    plt.imshow(cv2.cvtColor(resized, cv2.COLOR_BGR2RGB))\n",
    "    plt.axis('off')\n",
    "    plt.title(\"Detected Mercury (Only Red)\")\n",
    "    plt.show()\n",
    "\n",
    "    min_x = np.min(coords[:, 0, 0])\n",
    "    max_x = np.max(coords[:, 0, 0])\n",
    "    mercury_length = max_x - min_x + 1\n",
    "\n",
    "    total_pixels = img.shape[1]\n",
    "    temperature_range = 600\n",
    "    pixels_per_degree = total_pixels / temperature_range\n",
    "    temperature = mercury_length / pixels_per_degree\n",
    "\n",
    "    print(f\"Red mercury from column {min_x} to {max_x}\")\n",
    "    print(f\"Mercury pixel length: {mercury_length}\")\n",
    "    print(f\"Measured temperature: {temperature:.2f} °C\")\n",
    "\n",
    "else:\n",
    "    print(\"No red mercury detected.\")\n"
   ]
  }
 ],
 "metadata": {
  "language_info": {
   "name": "python"
  }
 },
 "nbformat": 4,
 "nbformat_minor": 5
}
