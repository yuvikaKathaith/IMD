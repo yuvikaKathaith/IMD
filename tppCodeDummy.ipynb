{
 "cells": [
  {
   "cell_type": "code",
   "execution_count": null,
   "id": "a7bf870d",
   "metadata": {
    "vscode": {
     "languageId": "plaintext"
    }
   },
   "outputs": [],
   "source": [
    "from PIL import Image\n",
    "import numpy as np\n",
    "\n",
    "# Step 1: Load the image\n",
    "image_path = \"4.24deg 1000.png\"  # Make sure this image is in same folder\n",
    "img = Image.open(image_path)\n",
    "\n",
    "# Step 2: Get image dimensions\n",
    "width, height = img.size\n",
    "print(f\"Total Columns (pixels) in image: {width}\")\n",
    "print(f\"Total Pixels in image: {width * height}\")\n",
    "\n",
    "# Step 3: Calculate TPP (Temperature per Pixel)\n",
    "max_temperature = 60  # Scale 0 to 60 degrees\n",
    "tpp = max_temperature / width\n",
    "print(f\"✅ Temperature Per Pixel (TPP): {tpp:.4f}°C per pixel\")\n",
    "\n",
    "# Step 4: Convert image to numpy array\n",
    "img_array = np.array(img)\n",
    "\n",
    "# Step 5: Count red columns\n",
    "red_columns = 0\n",
    "for col in range(width):\n",
    "    column_pixels = img_array[:, col, :]  # All pixels in current column\n",
    "    # Check if all pixels in this column are pure red [255, 0, 0]\n",
    "    if np.all(column_pixels == [255, 0, 0], axis=1).all():\n",
    "        red_columns += 1\n",
    "\n",
    "print(f\"\\nTotal Red Columns (Mercury part): {red_columns}\")\n",
    "\n",
    "# Step 6: Calculate Temperature\n",
    "temperature = red_columns * tpp\n",
    "print(f\"🌡 Final Temperature: {temperature:.2f}°C\")"
   ]
  }
 ],
 "metadata": {
  "language_info": {
   "name": "python"
  }
 },
 "nbformat": 4,
 "nbformat_minor": 5
}
