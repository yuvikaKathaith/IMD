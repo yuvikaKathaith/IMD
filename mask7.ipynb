{
 "cells": [
  {
   "cell_type": "code",
   "execution_count": null,
   "id": "648cf518",
   "metadata": {
    "vscode": {
     "languageId": "plaintext"
    }
   },
   "outputs": [],
   "source": [
    "import cv2\n",
    "import numpy as np\n",
    "import matplotlib.pyplot as plt\n",
    "\n",
    "img = cv2.imread('C:/Users/hp/Downloads/demo100.png')\n",
    "gray = cv2.cvtColor(img, cv2.COLOR_BGR2GRAY)\n",
    "_, mask = cv2.threshold(gray, 50, 255, cv2.THRESH_BINARY)\n",
    "\n",
    "plt.imshow(mask, cmap='gray')\n",
    "plt.title('White Mercury Detection')\n",
    "plt.axis('off')\n",
    "plt.show()\n",
    "\n",
    "coords = cv2.findNonZero(mask)\n",
    "\n",
    "if coords is not None:\n",
    "    x, y, w, h = cv2.boundingRect(coords)\n",
    "    min_x = np.min(coords[:, 0, 0])\n",
    "    max_x = np.max(coords[:, 0, 0])\n",
    "\n",
    "    img_boxed = img.copy()\n",
    "    cv2.rectangle(img_boxed, (x, y), (x + w, y + h), (0, 255, 0), 2)\n",
    "\n",
    "    plt.imshow(cv2.cvtColor(img_boxed, cv2.COLOR_BGR2RGB))\n",
    "    plt.title('Detected Mercury Bounding Box')\n",
    "    plt.axis('off')\n",
    "    plt.show()\n",
    "\n",
    "    print(f\"Mercury bounding box:\\nLeft: {x}, Right: {x + w}\")\n",
    "    print(f\"Detected mercury starts at column: {min_x}\")\n",
    "    print(f\"Detected mercury ends at column: {max_x}\")\n",
    "\n",
    "    total_temp = 100\n",
    "    img_width = img.shape[1]\n",
    "    temp_per_pixel = total_temp / img_width\n",
    "    mercury_length = max_x - min_x\n",
    "    measured_temp = mercury_length * temp_per_pixel\n",
    "\n",
    "    print(f\"Temperature per pixel: {temp_per_pixel:.2f}\")\n",
    "    print(f\"Measured temperature: {measured_temp:.2f} °C\")\n",
    "\n",
    "else:\n",
    "    print(\"No white mercury region detected.\")\n"
   ]
  }
 ],
 "metadata": {
  "language_info": {
   "name": "python"
  }
 },
 "nbformat": 4,
 "nbformat_minor": 5
}
