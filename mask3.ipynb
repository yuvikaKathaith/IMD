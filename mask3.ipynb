{
 "cells": [
  {
   "cell_type": "code",
   "execution_count": null,
   "id": "8c89aff9",
   "metadata": {
    "vscode": {
     "languageId": "plaintext"
    }
   },
   "outputs": [],
   "source": [
    "import cv2\n",
    "import numpy as np\n",
    "import matplotlib.pyplot as plt\n",
    "\n",
    "# === Input ===\n",
    "image_path = input(\"Enter full path to mercury image: \")\n",
    "known_total_temp = 100  # Set the thermometer's max temp range\n",
    "\n",
    "# === Read image ===\n",
    "img = cv2.imread(image_path)\n",
    "if img is None:\n",
    "    print(\"Error: Image not found.\")\n",
    "    exit()\n",
    "\n",
    "# === HSV + brightness threshold ===\n",
    "hsv = cv2.cvtColor(img, cv2.COLOR_BGR2HSV)\n",
    "v_channel = hsv[:, :, 2]\n",
    "_, thresh_mask = cv2.threshold(v_channel, 50, 255, cv2.THRESH_BINARY)\n",
    "\n",
    "# Red mask range\n",
    "lower_red1 = np.array([0, 100, 100])\n",
    "upper_red1 = np.array([10, 255, 255])\n",
    "lower_red2 = np.array([160, 100, 100])\n",
    "upper_red2 = np.array([179, 255, 255])\n",
    "mask1 = cv2.inRange(hsv, lower_red1, upper_red1)\n",
    "mask2 = cv2.inRange(hsv, lower_red2, upper_red2)\n",
    "red_mask = cv2.bitwise_or(mask1, mask2)\n",
    "\n",
    "# Combine brightness + red masks\n",
    "final_mask = cv2.bitwise_and(red_mask, thresh_mask)\n",
    "\n",
    "# Detect red mercury region\n",
    "coords = cv2.findNonZero(final_mask)\n",
    "\n",
    "if coords is not None:\n",
    "    x, y, w, h = cv2.boundingRect(coords)\n",
    "    min_x = np.min(coords[:, 0, 0])\n",
    "    max_x = np.max(coords[:, 0, 0])\n",
    "    mercury_width = max_x - min_x + 1\n",
    "\n",
    "    # 🧠 Dynamically use actual thermometer width (e.g., 100px = 100°C)\n",
    "    scale_width = img.shape[1]  # Or use max_x + 1 if full mercury is visible\n",
    "    temp_per_pixel = known_total_temp / scale_width\n",
    "    measured_temp = mercury_width * temp_per_pixel\n",
    "\n",
    "    # Bounding box visualization\n",
    "    boxed_img = img.copy()\n",
    "    cv2.rectangle(boxed_img, (x, y), (x + w, y + h), (0, 255, 0), 2)\n",
    "    plt.imshow(cv2.cvtColor(boxed_img, cv2.COLOR_BGR2RGB))\n",
    "    plt.title(\"Detected Mercury Region\")\n",
    "    plt.axis('off')\n",
    "    plt.show()\n",
    "\n",
    "    # Final Output\n",
    "    print(f\"Mercury bounding box:\")\n",
    "    print(f\"Left: {x}, Right: {x + w}\")\n",
    "    print(f\"Detected mercury starts at column: {min_x}\")\n",
    "    print(f\"Detected mercury ends at column: {max_x}\")\n",
    "    print(f\"Temperature per pixel: {temp_per_pixel:.2f}\")\n",
    "    print(f\"Measured temperature: {measured_temp:.2f} °C\")\n",
    "\n",
    "else:\n",
    "    print(\"No red mercury region detected.\")\n"
   ]
  }
 ],
 "metadata": {
  "language_info": {
   "name": "python"
  }
 },
 "nbformat": 4,
 "nbformat_minor": 5
}
