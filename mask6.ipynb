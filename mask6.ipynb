{
 "cells": [
  {
   "cell_type": "code",
   "execution_count": null,
   "id": "049e4780",
   "metadata": {
    "vscode": {
     "languageId": "plaintext"
    }
   },
   "outputs": [],
   "source": [
    "import cv2\n",
    "import numpy as np\n",
    "import matplotlib.pyplot as plt\n",
    "\n",
    "img = cv2.imread('demo100(1).png')\n",
    "if img is None:\n",
    "    print(\"Image not found.\")\n",
    "    exit()\n",
    "\n",
    "hsv = cv2.cvtColor(img, cv2.COLOR_BGR2HSV)\n",
    "v_channel = hsv[:, :, 2]\n",
    "_, thresh_mask = cv2.threshold(v_channel, 50, 255, cv2.THRESH_BINARY)\n",
    "\n",
    "lower_red1 = np.array([0, 100, 100])\n",
    "upper_red1 = np.array([10, 255, 255])\n",
    "lower_red2 = np.array([160, 100, 100])\n",
    "upper_red2 = np.array([179, 255, 255])\n",
    "\n",
    "mask1 = cv2.inRange(hsv, lower_red1, upper_red1)\n",
    "mask2 = cv2.inRange(hsv, lower_red2, upper_red2)\n",
    "red_mask = cv2.bitwise_or(mask1, mask2)\n",
    "\n",
    "final_mask = cv2.bitwise_and(red_mask, thresh_mask)\n",
    "\n",
    "coords = cv2.findNonZero(final_mask)\n",
    "\n",
    "if coords is not None:\n",
    "    x, y, w, h = cv2.boundingRect(coords)\n",
    "    min_x = np.min(coords[:, 0, 0])\n",
    "    max_x = np.max(coords[:, 0, 0])\n",
    "\n",
    "    boxed_img = img.copy()\n",
    "    cv2.rectangle(boxed_img, (x, y), (x + w, y + h), (0, 255, 0), 2)\n",
    "    plt.imshow(cv2.cvtColor(boxed_img, cv2.COLOR_BGR2RGB))\n",
    "    plt.axis('off')\n",
    "    plt.title('Detected Mercury Bounding Box')\n",
    "    plt.show()\n",
    "\n",
    "    mercury_width = max_x - min_x + 1  # should be 100 in this case\n",
    "    known_temp = 100\n",
    "    temp_per_pixel = known_temp / mercury_width\n",
    "    measured_temp = mercury_width * temp_per_pixel\n",
    "    error = abs(known_temp - measured_temp)\n",
    "\n",
    "    print(f\"Mercury bounding box:\\nLeft: {x}, Right: {x + w}\")\n",
    "    print(f\"Detected mercury starts at column: {min_x}\")\n",
    "    print(f\"Detected mercury ends at column: {max_x}\")\n",
    "    print(f\"Temperature per pixel: {temp_per_pixel:.2f}\")\n",
    "    print(f\"Measured temperature: {measured_temp:.2f} °C\")\n",
    "    print(f\"Error: {error:.2f} °C\")\n",
    "\n",
    "else:\n",
    "    print(\"No red mercury region detected.\")\n"
   ]
  }
 ],
 "metadata": {
  "language_info": {
   "name": "python"
  }
 },
 "nbformat": 4,
 "nbformat_minor": 5
}
