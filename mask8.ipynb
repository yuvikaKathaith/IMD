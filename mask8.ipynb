{
 "cells": [
  {
   "cell_type": "code",
   "execution_count": null,
   "id": "9595b507",
   "metadata": {
    "vscode": {
     "languageId": "plaintext"
    }
   },
   "outputs": [],
   "source": [
    "import cv2\n",
    "import numpy as np\n",
    "import matplotlib.pyplot as plt\n",
    "\n",
    "# Read enhanced image\n",
    "img_path = input(\"Enter full path to the enhanced mercury image: \")\n",
    "img = cv2.imread(img_path)\n",
    "if img is None:\n",
    "    print(\"Error: Image not found. Check the path.\")\n",
    "    exit()\n",
    "\n",
    "# Convert image to HSV for red detection\n",
    "hsv = cv2.cvtColor(img, cv2.COLOR_BGR2HSV)\n",
    "\n",
    "# Define HSV range for red\n",
    "lower_red1 = np.array([0, 100, 100])\n",
    "upper_red1 = np.array([10, 255, 255])\n",
    "lower_red2 = np.array([160, 100, 100])\n",
    "upper_red2 = np.array([179, 255, 255])\n",
    "\n",
    "# Red mask\n",
    "mask1 = cv2.inRange(hsv, lower_red1, upper_red1)\n",
    "mask2 = cv2.inRange(hsv, lower_red2, upper_red2)\n",
    "red_mask = cv2.bitwise_or(mask1, mask2)\n",
    "\n",
    "plt.imshow(red_mask, cmap='gray')\n",
    "plt.title('Binary Mercury Detection')\n",
    "plt.axis('off')\n",
    "plt.show()\n",
    "\n",
    "# Find red pixel coordinates\n",
    "coords = cv2.findNonZero(red_mask)\n",
    "\n",
    "if coords is not None:\n",
    "    x, y, w, h = cv2.boundingRect(coords)\n",
    "    boxed_img = img.copy()\n",
    "    cv2.rectangle(boxed_img, (x, y), (x + w, y + h), (0, 255, 0), 2)\n",
    "\n",
    "    plt.imshow(cv2.cvtColor(boxed_img, cv2.COLOR_BGR2RGB))\n",
    "    plt.axis('off')\n",
    "    plt.title('Detected Mercury Region')\n",
    "    plt.show()\n",
    "\n",
    "    min_x = np.min(coords[:, 0, 0])\n",
    "    max_x = np.max(coords[:, 0, 0])\n",
    "\n",
    "    total_pixels = img.shape[1]     # image width\n",
    "    temp_range = 100                # total temp in °C\n",
    "    tpp = temp_range / total_pixels # temperature per pixel\n",
    "    mercury_length = abs(max_x - 0)\n",
    "    temperature = mercury_length * tpp\n",
    "\n",
    "    print(f\"Mercury bounding box:\\nLeft: {x}, Right: {x + w}\")\n",
    "    print(f\"Detected mercury starts at column: {min_x}\")\n",
    "    print(f\"Detected mercury ends at column: {max_x}\")\n",
    "    print(f\"Temperature per pixel: {tpp:.2f}\")\n",
    "    print(f\"Measured temperature: {temperature:.2f} °C\")\n",
    "else:\n",
    "    print(\"No red mercury region detected.\")\n"
   ]
  }
 ],
 "metadata": {
  "language_info": {
   "name": "python"
  }
 },
 "nbformat": 4,
 "nbformat_minor": 5
}
